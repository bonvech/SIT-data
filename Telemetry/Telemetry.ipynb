{
 "cells": [
  {
   "cell_type": "markdown",
   "metadata": {},
   "source": [
    "# Файл телеметрии"
   ]
  },
  {
   "cell_type": "code",
   "execution_count": 1,
   "metadata": {},
   "outputs": [
    {
     "name": "stdout",
     "output_type": "stream",
     "text": [
      "/home/alena/SIT/Analysis/Baselines\n",
      "Чт фев 13 12:51:32 MSK 2020\n",
      "Baselines.ipynb  Parser.dat    tele.csv\n",
      "Baselines.txt\t Parser.ipynb  Telemetry.ipynb\n"
     ]
    }
   ],
   "source": [
    "!pwd\n",
    "!date\n",
    "!ls"
   ]
  },
  {
   "cell_type": "code",
   "execution_count": 2,
   "metadata": {},
   "outputs": [],
   "source": [
    "%matplotlib inline\n",
    "import pandas as pd\n",
    "import matplotlib.pyplot as plt\n",
    "import matplotlib as mp\n",
    "from matplotlib import dates\n",
    "import datetime as dt"
   ]
  },
  {
   "cell_type": "code",
   "execution_count": 3,
   "metadata": {},
   "outputs": [],
   "source": [
    "plt.rcParams['figure.figsize'] =(8,4)\n",
    "plt.rcParams['lines.markersize'] = 3.5\n",
    "plt.rcParams['lines.markeredgewidth'] = 1\n",
    "plt.rcParams['lines.linewidth'] = 1\n",
    "plt.rcParams['grid.alpha'] = 0.7\n",
    "plt.rcParams['xtick.direction'] = 'in'\n",
    "plt.rcParams['ytick.direction'] = 'in'\n",
    "plt.rcParams['font.size'] = 14"
   ]
  },
  {
   "cell_type": "code",
   "execution_count": 4,
   "metadata": {},
   "outputs": [
    {
     "name": "stdout",
     "output_type": "stream",
     "text": [
      "(1065297, 8)\n"
     ]
    },
    {
     "data": {
      "text/html": [
       "<div>\n",
       "<style scoped>\n",
       "    .dataframe tbody tr th:only-of-type {\n",
       "        vertical-align: middle;\n",
       "    }\n",
       "\n",
       "    .dataframe tbody tr th {\n",
       "        vertical-align: top;\n",
       "    }\n",
       "\n",
       "    .dataframe thead th {\n",
       "        text-align: right;\n",
       "    }\n",
       "</style>\n",
       "<table border=\"1\" class=\"dataframe\">\n",
       "  <thead>\n",
       "    <tr style=\"text-align: right;\">\n",
       "      <th></th>\n",
       "      <th>event</th>\n",
       "      <th>syncro</th>\n",
       "      <th>tmicro</th>\n",
       "      <th>timesec</th>\n",
       "      <th>date</th>\n",
       "      <th>time</th>\n",
       "      <th>cur</th>\n",
       "      <th>summ</th>\n",
       "    </tr>\n",
       "  </thead>\n",
       "  <tbody>\n",
       "    <tr>\n",
       "      <th>0</th>\n",
       "      <td>57069</td>\n",
       "      <td>-1</td>\n",
       "      <td>14:06:45.674</td>\n",
       "      <td>1569074955</td>\n",
       "      <td>2019-09-21</td>\n",
       "      <td>14:09:15</td>\n",
       "      <td>106</td>\n",
       "      <td>16133.45</td>\n",
       "    </tr>\n",
       "    <tr>\n",
       "      <th>1</th>\n",
       "      <td>57070</td>\n",
       "      <td>-1</td>\n",
       "      <td>14:06:58.674</td>\n",
       "      <td>1569074968</td>\n",
       "      <td>2019-09-21</td>\n",
       "      <td>14:09:28</td>\n",
       "      <td>106</td>\n",
       "      <td>21243.75</td>\n",
       "    </tr>\n",
       "    <tr>\n",
       "      <th>2</th>\n",
       "      <td>57071</td>\n",
       "      <td>-1</td>\n",
       "      <td>14:07:12.674</td>\n",
       "      <td>1569074982</td>\n",
       "      <td>2019-09-21</td>\n",
       "      <td>14:09:42</td>\n",
       "      <td>106</td>\n",
       "      <td>20587.86</td>\n",
       "    </tr>\n",
       "    <tr>\n",
       "      <th>3</th>\n",
       "      <td>57072</td>\n",
       "      <td>-1</td>\n",
       "      <td>14:07:12.674</td>\n",
       "      <td>1569074982</td>\n",
       "      <td>2019-09-21</td>\n",
       "      <td>14:09:42</td>\n",
       "      <td>106</td>\n",
       "      <td>14999.95</td>\n",
       "    </tr>\n",
       "    <tr>\n",
       "      <th>4</th>\n",
       "      <td>57073</td>\n",
       "      <td>-1</td>\n",
       "      <td>14:08:13.674</td>\n",
       "      <td>1569075043</td>\n",
       "      <td>2019-09-21</td>\n",
       "      <td>14:10:43</td>\n",
       "      <td>103</td>\n",
       "      <td>15707.61</td>\n",
       "    </tr>\n",
       "  </tbody>\n",
       "</table>\n",
       "</div>"
      ],
      "text/plain": [
       "   event  syncro        tmicro     timesec        date      time  cur  \\\n",
       "0  57069      -1  14:06:45.674  1569074955  2019-09-21  14:09:15  106   \n",
       "1  57070      -1  14:06:58.674  1569074968  2019-09-21  14:09:28  106   \n",
       "2  57071      -1  14:07:12.674  1569074982  2019-09-21  14:09:42  106   \n",
       "3  57072      -1  14:07:12.674  1569074982  2019-09-21  14:09:42  106   \n",
       "4  57073      -1  14:08:13.674  1569075043  2019-09-21  14:10:43  103   \n",
       "\n",
       "       summ  \n",
       "0  16133.45  \n",
       "1  21243.75  \n",
       "2  20587.86  \n",
       "3  14999.95  \n",
       "4  15707.61  "
      ]
     },
     "execution_count": 4,
     "metadata": {},
     "output_type": "execute_result"
    }
   ],
   "source": [
    "filename = \"tele.csv\"\n",
    "columns = ['event', 'syncro', 'tmicro', 'timesec', 'date', 'time', 'cur', 'summ']\n",
    "tele = pd.read_csv(filename, header = None, index_col=None, sep='\\s+', names=columns)\n",
    "print(tele.shape)\n",
    "tele.head()"
   ]
  },
  {
   "cell_type": "code",
   "execution_count": null,
   "metadata": {},
   "outputs": [],
   "source": [
    "# Удалить повторы\n",
    "tele = tele.drop_duplicates(subset=['event'], keep='first')\n",
    "print(tele.shape)"
   ]
  },
  {
   "cell_type": "code",
   "execution_count": 5,
   "metadata": {},
   "outputs": [
    {
     "data": {
      "text/plain": [
       "57316     1\n",
       "625764    1\n",
       "638050    1\n",
       "631905    1\n",
       "633952    1\n",
       "         ..\n",
       "776144    1\n",
       "569279    1\n",
       "567230    1\n",
       "573373    1\n",
       "57372     1\n",
       "Name: event, Length: 1065297, dtype: int64"
      ]
     },
     "execution_count": 5,
     "metadata": {},
     "output_type": "execute_result"
    }
   ],
   "source": [
    "# проверить наличие повторв\n",
    "tele.event.value_counts()"
   ]
  },
  {
   "cell_type": "code",
   "execution_count": null,
   "metadata": {},
   "outputs": [],
   "source": [
    "# Выкинуть нули\n",
    "tele0 = tele.loc[(base != 0).all(axis = 1)]\n",
    "print(tele0.shape)"
   ]
  },
  {
   "cell_type": "code",
   "execution_count": 6,
   "metadata": {},
   "outputs": [
    {
     "name": "stdout",
     "output_type": "stream",
     "text": [
      "(1065297, 8)\n"
     ]
    }
   ],
   "source": [
    "tele1 = tele.dropna()\n",
    "print(tele1.shape)"
   ]
  },
  {
   "cell_type": "code",
   "execution_count": 7,
   "metadata": {},
   "outputs": [
    {
     "data": {
      "text/plain": [
       "Text(0.5, 1.0, 'event')"
      ]
     },
     "execution_count": 7,
     "metadata": {},
     "output_type": "execute_result"
    },
    {
     "data": {
      "image/png": "[encoded data removed]",
      "text/plain": [
       "<Figure size 576x288 with 1 Axes>"
      ]
     },
     "metadata": {
      "needs_background": "light"
     },
     "output_type": "display_data"
    }
   ],
   "source": [
    "i=0\n",
    "plt.plot(tele[columns[i]].values, 'x')\n",
    "plt.title(columns[i])"
   ]
  },
  {
   "cell_type": "code",
   "execution_count": 8,
   "metadata": {},
   "outputs": [
    {
     "data": {
      "text/plain": [
       "Text(0.5, 1.0, 'syncro')"
      ]
     },
     "execution_count": 8,
     "metadata": {},
     "output_type": "execute_result"
    },
    {
     "data": {
      "image/png": "[encoded data removed]",
      "text/plain": [
       "<Figure size 576x288 with 1 Axes>"
      ]
     },
     "metadata": {
      "needs_background": "light"
     },
     "output_type": "display_data"
    }
   ],
   "source": [
    "i=1\n",
    "plt.plot(tele[columns[i]].values, 'x')\n",
    "plt.title(columns[i])"
   ]
  },
  {
   "cell_type": "code",
   "execution_count": 15,
   "metadata": {},
   "outputs": [
    {
     "data": {
      "text/plain": [
       "Text(0.5, 1.0, 'cur')"
      ]
     },
     "execution_count": 15,
     "metadata": {},
     "output_type": "execute_result"
    },
    {
     "data": {
      "image/png": "[encoded data removed]",
      "text/plain": [
       "<Figure size 576x288 with 1 Axes>"
      ]
     },
     "metadata": {
      "needs_background": "light"
     },
     "output_type": "display_data"
    }
   ],
   "source": [
    "i=6\n",
    "x = tele.cur[tele.cur < 1000000].values\n",
    "plt.plot(x, 'x')\n",
    "plt.title(columns[i])"
   ]
  },
  {
   "cell_type": "code",
   "execution_count": 14,
   "metadata": {},
   "outputs": [
    {
     "data": {
      "text/html": [
       "<div>\n",
       "<style scoped>\n",
       "    .dataframe tbody tr th:only-of-type {\n",
       "        vertical-align: middle;\n",
       "    }\n",
       "\n",
       "    .dataframe tbody tr th {\n",
       "        vertical-align: top;\n",
       "    }\n",
       "\n",
       "    .dataframe thead th {\n",
       "        text-align: right;\n",
       "    }\n",
       "</style>\n",
       "<table border=\"1\" class=\"dataframe\">\n",
       "  <thead>\n",
       "    <tr style=\"text-align: right;\">\n",
       "      <th></th>\n",
       "      <th>event</th>\n",
       "      <th>syncro</th>\n",
       "      <th>tmicro</th>\n",
       "      <th>timesec</th>\n",
       "      <th>date</th>\n",
       "      <th>time</th>\n",
       "      <th>cur</th>\n",
       "      <th>summ</th>\n",
       "    </tr>\n",
       "  </thead>\n",
       "  <tbody>\n",
       "    <tr>\n",
       "      <th>664650</th>\n",
       "      <td>812528</td>\n",
       "      <td>-1</td>\n",
       "      <td>00:36:06.008</td>\n",
       "      <td>1579538166</td>\n",
       "      <td>2020-01-20</td>\n",
       "      <td>16:36:06</td>\n",
       "      <td>16777215</td>\n",
       "      <td>278.59</td>\n",
       "    </tr>\n",
       "    <tr>\n",
       "      <th>664670</th>\n",
       "      <td>812548</td>\n",
       "      <td>-1</td>\n",
       "      <td>00:46:19.048</td>\n",
       "      <td>1579538779</td>\n",
       "      <td>2020-01-20</td>\n",
       "      <td>16:46:19</td>\n",
       "      <td>16777215</td>\n",
       "      <td>221.24</td>\n",
       "    </tr>\n",
       "    <tr>\n",
       "      <th>760003</th>\n",
       "      <td>907881</td>\n",
       "      <td>40132</td>\n",
       "      <td>04:44:15.065</td>\n",
       "      <td>1579639455</td>\n",
       "      <td>2020-01-21</td>\n",
       "      <td>20:44:15</td>\n",
       "      <td>16777215</td>\n",
       "      <td>281.46</td>\n",
       "    </tr>\n",
       "    <tr>\n",
       "      <th>760004</th>\n",
       "      <td>907882</td>\n",
       "      <td>40133</td>\n",
       "      <td>04:44:36.090</td>\n",
       "      <td>1579639476</td>\n",
       "      <td>2020-01-21</td>\n",
       "      <td>20:44:36</td>\n",
       "      <td>16777215</td>\n",
       "      <td>152.48</td>\n",
       "    </tr>\n",
       "    <tr>\n",
       "      <th>760005</th>\n",
       "      <td>907883</td>\n",
       "      <td>40134</td>\n",
       "      <td>04:44:40.079</td>\n",
       "      <td>1579639480</td>\n",
       "      <td>2020-01-21</td>\n",
       "      <td>20:44:40</td>\n",
       "      <td>16777215</td>\n",
       "      <td>133.35</td>\n",
       "    </tr>\n",
       "    <tr>\n",
       "      <th>760006</th>\n",
       "      <td>907884</td>\n",
       "      <td>40135</td>\n",
       "      <td>04:44:42.031</td>\n",
       "      <td>1579639482</td>\n",
       "      <td>2020-01-21</td>\n",
       "      <td>20:44:42</td>\n",
       "      <td>16777215</td>\n",
       "      <td>284.00</td>\n",
       "    </tr>\n",
       "    <tr>\n",
       "      <th>760007</th>\n",
       "      <td>907885</td>\n",
       "      <td>40136</td>\n",
       "      <td>04:44:48.090</td>\n",
       "      <td>1579639488</td>\n",
       "      <td>2020-01-21</td>\n",
       "      <td>20:44:48</td>\n",
       "      <td>16777215</td>\n",
       "      <td>282.06</td>\n",
       "    </tr>\n",
       "    <tr>\n",
       "      <th>760216</th>\n",
       "      <td>908094</td>\n",
       "      <td>40345</td>\n",
       "      <td>05:29:42.043</td>\n",
       "      <td>1579642182</td>\n",
       "      <td>2020-01-21</td>\n",
       "      <td>21:29:42</td>\n",
       "      <td>16777215</td>\n",
       "      <td>148.04</td>\n",
       "    </tr>\n",
       "    <tr>\n",
       "      <th>760217</th>\n",
       "      <td>908095</td>\n",
       "      <td>40346</td>\n",
       "      <td>05:29:51.083</td>\n",
       "      <td>1579642191</td>\n",
       "      <td>2020-01-21</td>\n",
       "      <td>21:29:51</td>\n",
       "      <td>16777215</td>\n",
       "      <td>96.57</td>\n",
       "    </tr>\n",
       "    <tr>\n",
       "      <th>760218</th>\n",
       "      <td>908096</td>\n",
       "      <td>40347</td>\n",
       "      <td>05:29:57.035</td>\n",
       "      <td>1579642197</td>\n",
       "      <td>2020-01-21</td>\n",
       "      <td>21:29:57</td>\n",
       "      <td>16777215</td>\n",
       "      <td>158.31</td>\n",
       "    </tr>\n",
       "    <tr>\n",
       "      <th>760219</th>\n",
       "      <td>908097</td>\n",
       "      <td>40348</td>\n",
       "      <td>05:30:04.013</td>\n",
       "      <td>1579642204</td>\n",
       "      <td>2020-01-21</td>\n",
       "      <td>21:30:04</td>\n",
       "      <td>16777215</td>\n",
       "      <td>-59.48</td>\n",
       "    </tr>\n",
       "    <tr>\n",
       "      <th>760220</th>\n",
       "      <td>908098</td>\n",
       "      <td>40349</td>\n",
       "      <td>05:30:24.051</td>\n",
       "      <td>1579642224</td>\n",
       "      <td>2020-01-21</td>\n",
       "      <td>21:30:24</td>\n",
       "      <td>16777215</td>\n",
       "      <td>248.79</td>\n",
       "    </tr>\n",
       "  </tbody>\n",
       "</table>\n",
       "</div>"
      ],
      "text/plain": [
       "         event  syncro        tmicro     timesec        date      time  \\\n",
       "664650  812528      -1  00:36:06.008  1579538166  2020-01-20  16:36:06   \n",
       "664670  812548      -1  00:46:19.048  1579538779  2020-01-20  16:46:19   \n",
       "760003  907881   40132  04:44:15.065  1579639455  2020-01-21  20:44:15   \n",
       "760004  907882   40133  04:44:36.090  1579639476  2020-01-21  20:44:36   \n",
       "760005  907883   40134  04:44:40.079  1579639480  2020-01-21  20:44:40   \n",
       "760006  907884   40135  04:44:42.031  1579639482  2020-01-21  20:44:42   \n",
       "760007  907885   40136  04:44:48.090  1579639488  2020-01-21  20:44:48   \n",
       "760216  908094   40345  05:29:42.043  1579642182  2020-01-21  21:29:42   \n",
       "760217  908095   40346  05:29:51.083  1579642191  2020-01-21  21:29:51   \n",
       "760218  908096   40347  05:29:57.035  1579642197  2020-01-21  21:29:57   \n",
       "760219  908097   40348  05:30:04.013  1579642204  2020-01-21  21:30:04   \n",
       "760220  908098   40349  05:30:24.051  1579642224  2020-01-21  21:30:24   \n",
       "\n",
       "             cur    summ  \n",
       "664650  16777215  278.59  \n",
       "664670  16777215  221.24  \n",
       "760003  16777215  281.46  \n",
       "760004  16777215  152.48  \n",
       "760005  16777215  133.35  \n",
       "760006  16777215  284.00  \n",
       "760007  16777215  282.06  \n",
       "760216  16777215  148.04  \n",
       "760217  16777215   96.57  \n",
       "760218  16777215  158.31  \n",
       "760219  16777215  -59.48  \n",
       "760220  16777215  248.79  "
      ]
     },
     "execution_count": 14,
     "metadata": {},
     "output_type": "execute_result"
    }
   ],
   "source": [
    "tele[tele.cur>10000]"
   ]
  },
  {
   "cell_type": "code",
   "execution_count": 10,
   "metadata": {},
   "outputs": [
    {
     "data": {
      "text/plain": [
       "Text(0.5, 1.0, 'summ')"
      ]
     },
     "execution_count": 10,
     "metadata": {},
     "output_type": "execute_result"
    },
    {
     "data": {
      "image/png": "[encoded data removed]",
      "text/plain": [
       "<Figure size 576x288 with 1 Axes>"
      ]
     },
     "metadata": {
      "needs_background": "light"
     },
     "output_type": "display_data"
    }
   ],
   "source": [
    "i=7\n",
    "plt.plot(tele[columns[i]].values, 'x')\n",
    "plt.title(columns[i])"
   ]
  },
  {
   "cell_type": "code",
   "execution_count": null,
   "metadata": {},
   "outputs": [],
   "source": []
  }
 ],
 "metadata": {
  "kernelspec": {
   "display_name": "Python 3",
   "language": "python",
   "name": "python3"
  },
  "language_info": {
   "codemirror_mode": {
    "name": "ipython",
    "version": 3
   },
   "file_extension": ".py",
   "mimetype": "text/x-python",
   "name": "python",
   "nbconvert_exporter": "python",
   "pygments_lexer": "ipython3",
   "version": "3.7.4"
  }
 },
 "nbformat": 4,
 "nbformat_minor": 2
}
